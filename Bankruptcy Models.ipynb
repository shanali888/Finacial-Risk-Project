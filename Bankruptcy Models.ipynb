{
 "cells": [
  {
   "cell_type": "markdown",
   "metadata": {},
   "source": [
    "# Bankruptcy Model"
   ]
  },
  {
   "cell_type": "code",
   "execution_count": 1,
   "metadata": {},
   "outputs": [],
   "source": [
    "# load libaries\n",
    "from sklearn.linear_model import LogisticRegression\n",
    "from sklearn.ensemble import RandomForestClassifier\n",
    "from sklearn.model_selection import train_test_split\n",
    "from sklearn.metrics import classification_report\n",
    "from sklearn.metrics import precision_recall_fscore_support\n",
    "from sklearn.metrics import roc_auc_score\n",
    "from sklearn.metrics import plot_roc_curve\n",
    "from sklearn.impute import KNNImputer\n",
    "from sklearn.impute import SimpleImputer\n",
    "import pandas as pd\n",
    "import numpy as np\n",
    "import shap"
   ]
  },
  {
   "cell_type": "markdown",
   "metadata": {},
   "source": [
    "#### Split Data"
   ]
  },
  {
   "cell_type": "code",
   "execution_count": 2,
   "metadata": {},
   "outputs": [],
   "source": [
    "# load data\n",
    "data = pd.read_csv('data-final.csv')"
   ]
  },
  {
   "cell_type": "code",
   "execution_count": 3,
   "metadata": {
    "collapsed": true
   },
   "outputs": [
    {
     "name": "stderr",
     "output_type": "stream",
     "text": [
      "\n",
      "A value is trying to be set on a copy of a slice from a DataFrame.\n",
      "Try using .loc[row_indexer,col_indexer] = value instead\n",
      "\n",
      "See the caveats in the documentation: https://pandas.pydata.org/pandas-docs/stable/user_guide/indexing.html#returning-a-view-versus-a-copy\n",
      "\n",
      "A value is trying to be set on a copy of a slice from a DataFrame.\n",
      "Try using .loc[row_indexer,col_indexer] = value instead\n",
      "\n",
      "See the caveats in the documentation: https://pandas.pydata.org/pandas-docs/stable/user_guide/indexing.html#returning-a-view-versus-a-copy\n",
      "\n",
      "A value is trying to be set on a copy of a slice from a DataFrame.\n",
      "Try using .loc[row_indexer,col_indexer] = value instead\n",
      "\n",
      "See the caveats in the documentation: https://pandas.pydata.org/pandas-docs/stable/user_guide/indexing.html#returning-a-view-versus-a-copy\n"
     ]
    }
   ],
   "source": [
    "# define desired features\n",
    "y_col = ['DLRSN B','DLRSN L','AA B','FAILURE DLRSN','BNKRPT','FAILURE'][4]\n",
    "cols = ['NITA','NIMTA','TLTA','TLMTA','CASHMTA','MB','EXRET','RSIZE','PRICE','SIGMA',y_col]\n",
    "d = data[cols]\n",
    "\n",
    "# impute missing SIGMA\n",
    "imp = SimpleImputer()\n",
    "d['SIGMA'] = imp.fit_transform(d[['SIGMA']])\n",
    "d['PRICE'] = imp.fit_transform(d[['PRICE']])\n",
    "d['RSIZE'] = imp.fit_transform(d[['RSIZE']])\n",
    "\n",
    "# split data into X, y and test, train\n",
    "d = d.dropna()\n",
    "X, y = d[cols].drop(columns=y_col), d[y_col]\n",
    "X_train, X_test, y_train, y_test = train_test_split(X, y, test_size=0.33, random_state=10)"
   ]
  },
  {
   "cell_type": "markdown",
   "metadata": {},
   "source": [
    "#### Data Statistics"
   ]
  },
  {
   "cell_type": "code",
   "execution_count": 4,
   "metadata": {},
   "outputs": [
    {
     "data": {
      "text/html": [
       "<div>\n",
       "<style scoped>\n",
       "    .dataframe tbody tr th:only-of-type {\n",
       "        vertical-align: middle;\n",
       "    }\n",
       "\n",
       "    .dataframe tbody tr th {\n",
       "        vertical-align: top;\n",
       "    }\n",
       "\n",
       "    .dataframe thead th {\n",
       "        text-align: right;\n",
       "    }\n",
       "</style>\n",
       "<table border=\"1\" class=\"dataframe\">\n",
       "  <thead>\n",
       "    <tr style=\"text-align: right;\">\n",
       "      <th></th>\n",
       "      <th>count</th>\n",
       "      <th>mean</th>\n",
       "      <th>std</th>\n",
       "      <th>min</th>\n",
       "      <th>25%</th>\n",
       "      <th>50%</th>\n",
       "      <th>75%</th>\n",
       "      <th>max</th>\n",
       "    </tr>\n",
       "  </thead>\n",
       "  <tbody>\n",
       "    <tr>\n",
       "      <th>NITA</th>\n",
       "      <td>1606116.0</td>\n",
       "      <td>-0.007273</td>\n",
       "      <td>0.053103</td>\n",
       "      <td>-0.245683</td>\n",
       "      <td>-0.008595</td>\n",
       "      <td>0.008110</td>\n",
       "      <td>0.018807</td>\n",
       "      <td>0.045693</td>\n",
       "    </tr>\n",
       "    <tr>\n",
       "      <th>NIMTA</th>\n",
       "      <td>1606116.0</td>\n",
       "      <td>-0.002847</td>\n",
       "      <td>0.029779</td>\n",
       "      <td>-0.113816</td>\n",
       "      <td>-0.006344</td>\n",
       "      <td>0.006080</td>\n",
       "      <td>0.012504</td>\n",
       "      <td>0.032560</td>\n",
       "    </tr>\n",
       "    <tr>\n",
       "      <th>TLTA</th>\n",
       "      <td>1606116.0</td>\n",
       "      <td>0.474169</td>\n",
       "      <td>0.240945</td>\n",
       "      <td>0.059625</td>\n",
       "      <td>0.287220</td>\n",
       "      <td>0.476553</td>\n",
       "      <td>0.635646</td>\n",
       "      <td>1.242966</td>\n",
       "    </tr>\n",
       "    <tr>\n",
       "      <th>TLMTA</th>\n",
       "      <td>1606116.0</td>\n",
       "      <td>0.381685</td>\n",
       "      <td>0.243584</td>\n",
       "      <td>0.025577</td>\n",
       "      <td>0.169555</td>\n",
       "      <td>0.357832</td>\n",
       "      <td>0.570216</td>\n",
       "      <td>0.889005</td>\n",
       "    </tr>\n",
       "    <tr>\n",
       "      <th>CASHMTA</th>\n",
       "      <td>1606116.0</td>\n",
       "      <td>0.139304</td>\n",
       "      <td>0.165561</td>\n",
       "      <td>0.000839</td>\n",
       "      <td>0.019986</td>\n",
       "      <td>0.067152</td>\n",
       "      <td>0.197493</td>\n",
       "      <td>0.602749</td>\n",
       "    </tr>\n",
       "    <tr>\n",
       "      <th>MB</th>\n",
       "      <td>1606116.0</td>\n",
       "      <td>2.995813</td>\n",
       "      <td>3.367355</td>\n",
       "      <td>0.439465</td>\n",
       "      <td>1.030953</td>\n",
       "      <td>1.790164</td>\n",
       "      <td>3.315005</td>\n",
       "      <td>15.095297</td>\n",
       "    </tr>\n",
       "    <tr>\n",
       "      <th>EXRET</th>\n",
       "      <td>1606116.0</td>\n",
       "      <td>-0.009512</td>\n",
       "      <td>0.170605</td>\n",
       "      <td>-5.086846</td>\n",
       "      <td>-0.077136</td>\n",
       "      <td>-0.005628</td>\n",
       "      <td>0.062333</td>\n",
       "      <td>5.765262</td>\n",
       "    </tr>\n",
       "    <tr>\n",
       "      <th>RSIZE</th>\n",
       "      <td>1606116.0</td>\n",
       "      <td>-3.386754</td>\n",
       "      <td>2.562857</td>\n",
       "      <td>-22.746434</td>\n",
       "      <td>-5.035026</td>\n",
       "      <td>-3.386754</td>\n",
       "      <td>-1.723115</td>\n",
       "      <td>7.435575</td>\n",
       "    </tr>\n",
       "    <tr>\n",
       "      <th>PRICE</th>\n",
       "      <td>1606116.0</td>\n",
       "      <td>1.982524</td>\n",
       "      <td>1.032501</td>\n",
       "      <td>-4.556380</td>\n",
       "      <td>1.531476</td>\n",
       "      <td>2.525729</td>\n",
       "      <td>2.708050</td>\n",
       "      <td>2.708050</td>\n",
       "    </tr>\n",
       "    <tr>\n",
       "      <th>SIGMA</th>\n",
       "      <td>1606116.0</td>\n",
       "      <td>0.035398</td>\n",
       "      <td>0.028740</td>\n",
       "      <td>0.000000</td>\n",
       "      <td>0.018468</td>\n",
       "      <td>0.028823</td>\n",
       "      <td>0.043209</td>\n",
       "      <td>2.405056</td>\n",
       "    </tr>\n",
       "    <tr>\n",
       "      <th>BNKRPT</th>\n",
       "      <td>1606116.0</td>\n",
       "      <td>0.000357</td>\n",
       "      <td>0.018901</td>\n",
       "      <td>0.000000</td>\n",
       "      <td>0.000000</td>\n",
       "      <td>0.000000</td>\n",
       "      <td>0.000000</td>\n",
       "      <td>1.000000</td>\n",
       "    </tr>\n",
       "  </tbody>\n",
       "</table>\n",
       "</div>"
      ],
      "text/plain": [
       "             count      mean       std        min       25%       50%  \\\n",
       "NITA     1606116.0 -0.007273  0.053103  -0.245683 -0.008595  0.008110   \n",
       "NIMTA    1606116.0 -0.002847  0.029779  -0.113816 -0.006344  0.006080   \n",
       "TLTA     1606116.0  0.474169  0.240945   0.059625  0.287220  0.476553   \n",
       "TLMTA    1606116.0  0.381685  0.243584   0.025577  0.169555  0.357832   \n",
       "CASHMTA  1606116.0  0.139304  0.165561   0.000839  0.019986  0.067152   \n",
       "MB       1606116.0  2.995813  3.367355   0.439465  1.030953  1.790164   \n",
       "EXRET    1606116.0 -0.009512  0.170605  -5.086846 -0.077136 -0.005628   \n",
       "RSIZE    1606116.0 -3.386754  2.562857 -22.746434 -5.035026 -3.386754   \n",
       "PRICE    1606116.0  1.982524  1.032501  -4.556380  1.531476  2.525729   \n",
       "SIGMA    1606116.0  0.035398  0.028740   0.000000  0.018468  0.028823   \n",
       "BNKRPT   1606116.0  0.000357  0.018901   0.000000  0.000000  0.000000   \n",
       "\n",
       "              75%        max  \n",
       "NITA     0.018807   0.045693  \n",
       "NIMTA    0.012504   0.032560  \n",
       "TLTA     0.635646   1.242966  \n",
       "TLMTA    0.570216   0.889005  \n",
       "CASHMTA  0.197493   0.602749  \n",
       "MB       3.315005  15.095297  \n",
       "EXRET    0.062333   5.765262  \n",
       "RSIZE   -1.723115   7.435575  \n",
       "PRICE    2.708050   2.708050  \n",
       "SIGMA    0.043209   2.405056  \n",
       "BNKRPT   0.000000   1.000000  "
      ]
     },
     "execution_count": 4,
     "metadata": {},
     "output_type": "execute_result"
    }
   ],
   "source": [
    "d.describe().T"
   ]
  },
  {
   "cell_type": "code",
   "execution_count": 5,
   "metadata": {},
   "outputs": [
    {
     "data": {
      "text/html": [
       "<div>\n",
       "<style scoped>\n",
       "    .dataframe tbody tr th:only-of-type {\n",
       "        vertical-align: middle;\n",
       "    }\n",
       "\n",
       "    .dataframe tbody tr th {\n",
       "        vertical-align: top;\n",
       "    }\n",
       "\n",
       "    .dataframe thead th {\n",
       "        text-align: right;\n",
       "    }\n",
       "</style>\n",
       "<table border=\"1\" class=\"dataframe\">\n",
       "  <thead>\n",
       "    <tr style=\"text-align: right;\">\n",
       "      <th></th>\n",
       "      <th>Total</th>\n",
       "      <th>Train</th>\n",
       "      <th>Test</th>\n",
       "    </tr>\n",
       "  </thead>\n",
       "  <tbody>\n",
       "    <tr>\n",
       "      <th>0</th>\n",
       "      <td>1605542</td>\n",
       "      <td>1075721</td>\n",
       "      <td>529821</td>\n",
       "    </tr>\n",
       "    <tr>\n",
       "      <th>1</th>\n",
       "      <td>574</td>\n",
       "      <td>376</td>\n",
       "      <td>198</td>\n",
       "    </tr>\n",
       "  </tbody>\n",
       "</table>\n",
       "</div>"
      ],
      "text/plain": [
       "     Total    Train    Test\n",
       "0  1605542  1075721  529821\n",
       "1      574      376     198"
      ]
     },
     "execution_count": 5,
     "metadata": {},
     "output_type": "execute_result"
    }
   ],
   "source": [
    "# display target split counts\n",
    "t = pd.DataFrame()\n",
    "t['Total'] = d[y_col].value_counts()\n",
    "t['Train'] = y_train.value_counts()\n",
    "t['Test'] = y_test.value_counts()\n",
    "t"
   ]
  },
  {
   "cell_type": "code",
   "execution_count": 7,
   "metadata": {},
   "outputs": [
    {
     "data": {
      "text/plain": [
       "<matplotlib.axes._subplots.AxesSubplot at 0x1b9c7d929c8>"
      ]
     },
     "execution_count": 7,
     "metadata": {},
     "output_type": "execute_result"
    },
    {
     "data": {
      "image/png": "[encoded data removed]",
      "text/plain": [
       "<Figure size 576x288 with 1 Axes>"
      ]
     },
     "metadata": {
      "needs_background": "light"
     },
     "output_type": "display_data"
    },
    {
     "data": {
      "image/png": "[encoded data removed]",
      "text/plain": [
       "<Figure size 576x288 with 1 Axes>"
      ]
     },
     "metadata": {
      "needs_background": "light"
     },
     "output_type": "display_data"
    }
   ],
   "source": [
    "data['year'] = pd.to_datetime(data['date']).dt.to_period('Y')\n",
    "c = data.groupby(by=['date']).count()\n",
    "s = data.groupby(by=['year']).sum()\n",
    "c[['gvkey']].plot(figsize=(8,4), title='Total Firms per Month')\n",
    "s[['BNKRPT']].plot(figsize=(8,4), title='Total Bankruptcies per Year')"
   ]
  },
  {
   "cell_type": "markdown",
   "metadata": {},
   "source": [
    "#### Test Models"
   ]
  },
  {
   "cell_type": "code",
   "execution_count": 12,
   "metadata": {},
   "outputs": [],
   "source": [
    "out = pd.DataFrame()"
   ]
  },
  {
   "cell_type": "code",
   "execution_count": 13,
   "metadata": {},
   "outputs": [
    {
     "data": {
      "text/plain": [
       "<sklearn.metrics._plot.roc_curve.RocCurveDisplay at 0x1b98017ef88>"
      ]
     },
     "execution_count": 13,
     "metadata": {},
     "output_type": "execute_result"
    },
    {
     "data": {
      "image/png": "[encoded data removed]",
      "text/plain": [
       "<Figure size 432x288 with 1 Axes>"
      ]
     },
     "metadata": {
      "needs_background": "light"
     },
     "output_type": "display_data"
    }
   ],
   "source": [
    "# test logit model\n",
    "for cw in [None, 'balanced', {0:.09,1:.91}]:\n",
    "    lgt = LogisticRegression(class_weight=cw, random_state=10, max_iter=10000)\n",
    "    lgt.fit(X_train, y_train)\n",
    "    y_pred = lgt.predict(X_test)\n",
    "    y_prob = pd.DataFrame(lgt.predict_proba(X_test))[0]\n",
    "    acc = lgt.score(X_test, y_test)\n",
    "    cr = classification_report(y_test, y_pred)\n",
    "    auc = roc_auc_score(y_test, y_prob)\n",
    "    prf = precision_recall_fscore_support(y_test, y_pred)\n",
    "    cols = 'Logit ' + str(cw)\n",
    "    out[cols] = [acc, auc, prf[0][1], prf[1][1], prf[2][1], prf[3][1], cr]\n",
    "    print(cols)\n",
    "\n",
    "plot_roc_curve(lgt, X_test, y_test)"
   ]
  },
  {
   "cell_type": "code",
   "execution_count": 14,
   "metadata": {},
   "outputs": [
    {
     "name": "stdout",
     "output_type": "stream",
     "text": [
      "RForest None\n",
      "RForest balanced\n"
     ]
    }
   ],
   "source": [
    "# test Random Forest model\n",
    "for cw in [None,'balanced']: #range(11,30,2):\n",
    "    #cw = {0:(1-cw),1:cw}\n",
    "    rfc = RandomForestClassifier(class_weight=cw, random_state=10)\n",
    "    rfc.fit(X_train, y_train)\n",
    "    y_pred = rfc.predict(X_test)\n",
    "    y_prob = pd.DataFrame(rfc.predict_proba(X_test))[0]\n",
    "    acc = lgt.score(X_test, y_test)\n",
    "    cr = classification_report(y_test, y_pred)\n",
    "    auc = roc_auc_score(y_test, y_prob)\n",
    "    prf = precision_recall_fscore_support(y_test, y_pred)\n",
    "    cols = 'RForest ' + str(cw)\n",
    "    out[cols] = [acc, auc, prf[0][1], prf[1][1], prf[2][1], prf[3][1], cr]\n",
    "    print(cols)"
   ]
  },
  {
   "cell_type": "code",
   "execution_count": 15,
   "metadata": {},
   "outputs": [
    {
     "data": {
      "text/html": [
       "<div>\n",
       "<style scoped>\n",
       "    .dataframe tbody tr th:only-of-type {\n",
       "        vertical-align: middle;\n",
       "    }\n",
       "\n",
       "    .dataframe tbody tr th {\n",
       "        vertical-align: top;\n",
       "    }\n",
       "\n",
       "    .dataframe thead th {\n",
       "        text-align: right;\n",
       "    }\n",
       "</style>\n",
       "<table border=\"1\" class=\"dataframe\">\n",
       "  <thead>\n",
       "    <tr style=\"text-align: right;\">\n",
       "      <th></th>\n",
       "      <th>accuracy</th>\n",
       "      <th>AUC</th>\n",
       "      <th>percision</th>\n",
       "      <th>recall</th>\n",
       "      <th>fscore</th>\n",
       "      <th>support</th>\n",
       "      <th>report</th>\n",
       "    </tr>\n",
       "  </thead>\n",
       "  <tbody>\n",
       "    <tr>\n",
       "      <th>Logit None</th>\n",
       "      <td>0.999628</td>\n",
       "      <td>0.0529378</td>\n",
       "      <td>1</td>\n",
       "      <td>0.00505051</td>\n",
       "      <td>0.0100503</td>\n",
       "      <td>198</td>\n",
       "      <td>precision    recall  f1-score   ...</td>\n",
       "    </tr>\n",
       "    <tr>\n",
       "      <th>Logit balanced</th>\n",
       "      <td>0.903919</td>\n",
       "      <td>0.0484916</td>\n",
       "      <td>0.00356227</td>\n",
       "      <td>0.919192</td>\n",
       "      <td>0.00709704</td>\n",
       "      <td>198</td>\n",
       "      <td>precision    recall  f1-score   ...</td>\n",
       "    </tr>\n",
       "    <tr>\n",
       "      <th>Logit {0: 0.09, 1: 0.91}</th>\n",
       "      <td>0.999523</td>\n",
       "      <td>0.0518704</td>\n",
       "      <td>0.204301</td>\n",
       "      <td>0.0959596</td>\n",
       "      <td>0.130584</td>\n",
       "      <td>198</td>\n",
       "      <td>precision    recall  f1-score   ...</td>\n",
       "    </tr>\n",
       "    <tr>\n",
       "      <th>RForest None</th>\n",
       "      <td>0.999523</td>\n",
       "      <td>0.227706</td>\n",
       "      <td>0.944444</td>\n",
       "      <td>0.0858586</td>\n",
       "      <td>0.157407</td>\n",
       "      <td>198</td>\n",
       "      <td>precision    recall  f1-score   ...</td>\n",
       "    </tr>\n",
       "    <tr>\n",
       "      <th>RForest balanced</th>\n",
       "      <td>0.999523</td>\n",
       "      <td>0.290125</td>\n",
       "      <td>1</td>\n",
       "      <td>0.0757576</td>\n",
       "      <td>0.140845</td>\n",
       "      <td>198</td>\n",
       "      <td>precision    recall  f1-score   ...</td>\n",
       "    </tr>\n",
       "  </tbody>\n",
       "</table>\n",
       "</div>"
      ],
      "text/plain": [
       "                          accuracy        AUC   percision      recall  \\\n",
       "Logit None                0.999628  0.0529378           1  0.00505051   \n",
       "Logit balanced            0.903919  0.0484916  0.00356227    0.919192   \n",
       "Logit {0: 0.09, 1: 0.91}  0.999523  0.0518704    0.204301   0.0959596   \n",
       "RForest None              0.999523   0.227706    0.944444   0.0858586   \n",
       "RForest balanced          0.999523   0.290125           1   0.0757576   \n",
       "\n",
       "                              fscore support  \\\n",
       "Logit None                 0.0100503     198   \n",
       "Logit balanced            0.00709704     198   \n",
       "Logit {0: 0.09, 1: 0.91}    0.130584     198   \n",
       "RForest None                0.157407     198   \n",
       "RForest balanced            0.140845     198   \n",
       "\n",
       "                                                                     report  \n",
       "Logit None                              precision    recall  f1-score   ...  \n",
       "Logit balanced                          precision    recall  f1-score   ...  \n",
       "Logit {0: 0.09, 1: 0.91}                precision    recall  f1-score   ...  \n",
       "RForest None                            precision    recall  f1-score   ...  \n",
       "RForest balanced                        precision    recall  f1-score   ...  "
      ]
     },
     "execution_count": 15,
     "metadata": {},
     "output_type": "execute_result"
    }
   ],
   "source": [
    "out = out.rename(index={0:'accuracy',1:'AUC',2:'percision',3:'recall',4:'fscore',5:'support',6:'report'})\n",
    "out.T"
   ]
  },
  {
   "cell_type": "code",
   "execution_count": null,
   "metadata": {},
   "outputs": [],
   "source": [
    "# !! want to run, takes forever (6+ hours on rfc)\n",
    "# compute SHAP values and visualize for impact\n",
    "explainer = shap.TreeExplainer(rfc)\n",
    "shap_values = explainer.shap_values(X_test)\n",
    "shap.summary_plot(shap_values, X_test)"
   ]
  },
  {
   "cell_type": "code",
   "execution_count": null,
   "metadata": {},
   "outputs": [],
   "source": []
  }
 ],
 "metadata": {
  "kernelspec": {
   "display_name": "Python 3",
   "language": "python",
   "name": "python3"
  },
  "language_info": {
   "codemirror_mode": {
    "name": "ipython",
    "version": 3
   },
   "file_extension": ".py",
   "mimetype": "text/x-python",
   "name": "python",
   "nbconvert_exporter": "python",
   "pygments_lexer": "ipython3",
   "version": "3.7.6"
  }
 },
 "nbformat": 4,
 "nbformat_minor": 4
}
